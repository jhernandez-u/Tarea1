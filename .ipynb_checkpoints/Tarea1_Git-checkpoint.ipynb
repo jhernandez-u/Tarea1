{
 "cells": [
  {
   "cell_type": "markdown",
   "metadata": {},
   "source": [
    "# Herramientas de control de versiones\n",
    "\n",
    "    Estas herramientas son programas que se crearon con el objetivo de poder llevar un control sobre los cambios que se realizan en los archivos de codigo fuente de un programa, pero en general pueden ser usados para llevar en control de los cambios de cualquier carpeta o archivo\n",
    "\n"
   ]
  },
  {
   "cell_type": "code",
   "execution_count": null,
   "metadata": {},
   "outputs": [],
   "source": []
  }
 ],
 "metadata": {
  "kernelspec": {
   "display_name": "Python 3",
   "language": "python",
   "name": "python3"
  },
  "language_info": {
   "codemirror_mode": {
    "name": "ipython",
    "version": 3
   },
   "file_extension": ".py",
   "mimetype": "text/x-python",
   "name": "python",
   "nbconvert_exporter": "python",
   "pygments_lexer": "ipython3",
   "version": "3.8.1"
  }
 },
 "nbformat": 4,
 "nbformat_minor": 4
}
