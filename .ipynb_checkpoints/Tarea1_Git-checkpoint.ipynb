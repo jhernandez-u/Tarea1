{
 "cells": [
  {
   "cell_type": "markdown",
   "metadata": {},
   "source": [
    "# Herramientas de control de versiones\n",
    "\n",
    "Estas herramientas son programas que se crearon con el objetivo de poder llevar un control sobre los cambios que se realizan en los archivos de codigo fuente de un programa a lo largo del tiempo, pero en general pueden ser usados para llevar en control de los cambios de cualquier carpeta o archivo\n",
    "\n",
    "Uno de los principales benficios de este tipo de herramientas es la facilidad que brindan para trabajar en un ambiente colaborativo, permitiendo que cada uno de las personas que esten trabajando en el mismo proyecto puedan desarrollar los cambios en diferentes branches y luego poder unir los cambios de una forma relativamente sencilla. De esta forma todas las personas saben en que está trabajando cada usuario.\n",
    "\n",
    "Los VCSs por sus siglas en ingles llevan el control de los cambios por medio de snapshots (commits) que se hacen del directorio de alto nivel tambien conocido como Tree y de todos los subdirectorios (tambien llamados tree) o archivos (conocidos como blob) que este contenga, de tal forma que en cualquier momento se pueda regresar a un commit anterior o si por cualquier razon se arruina o pierde algun documento se pueda recuperar facilmente\n",
    "\n",
    "## Git\n",
    "Uno de los principales VCSs es Git, desarrollado en 2005 por la comunidad que desarrollaba el kernel de Linux, una de las grandes diferencias que tiene con respecto a otras herramientas similares (como por ejemplo Subversion o Perforce) es la forma en la que almacena y manejan los datos, Git maneja los datos como un conjunto de copias instantaneas (snapshots) de un sistema de archivos, para ser eficiente si un archivo no se ha modificado no lo almacena de nuevo, sino que solo apunta al archivo anterior que ya tiene almacenado, por lo tanto Git maneja sus datos como una secuencia de snapshots\n",
    "\n",
    "La mayor parte del tiempo Git solo necesita archivos y recursos locales para trabajar lo cual lo hace bastante rapido y la mayoria de las operaciones se ejecutan rapidamente, todo en Git es verificado por medio de un checksum antes de ser almacenado y es identificado a partir de ese momento por ese chechsum, esto nos ayuda a que no se pueda modificar nada sin que Git se de cuenta y tampoco se puede perder informarcion o tener una corrupcion de datos sin que git lo pueda detectar, el mecanismo que utiliza Git para generar este checksum se conoce como hash SHA-1. Este es un valor importante ya que Git no almacena los objetos por su nombre sino por el valor hash de sus contenidos\n",
    "\n",
    "\n"
   ]
  },
  {
   "cell_type": "code",
   "execution_count": null,
   "metadata": {},
   "outputs": [],
   "source": []
  }
 ],
 "metadata": {
  "kernelspec": {
   "display_name": "Python 3",
   "language": "python",
   "name": "python3"
  },
  "language_info": {
   "codemirror_mode": {
    "name": "ipython",
    "version": 3
   },
   "file_extension": ".py",
   "mimetype": "text/x-python",
   "name": "python",
   "nbconvert_exporter": "python",
   "pygments_lexer": "ipython3",
   "version": "3.8.1"
  }
 },
 "nbformat": 4,
 "nbformat_minor": 4
}
