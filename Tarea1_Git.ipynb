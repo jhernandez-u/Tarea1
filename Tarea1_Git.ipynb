{
 "cells": [
  {
   "cell_type": "markdown",
   "metadata": {},
   "source": [
    "# Herramientas de control de versiones\n",
    "\n",
    "Estas herramientas son programas que se crearon con el objetivo de poder llevar un control sobre los cambios que se realizan en los archivos de codigo fuente de un programa a lo largo del tiempo, pero en general pueden ser usados para llevar en control de los cambios de cualquier carpeta o archivo\n",
    "\n",
    "Uno de los principales benficios de este tipo de herramientas es la facilidad que brindan para trabajar en un ambiente colaborativo, permitiendo que cada uno de las personas que esten trabajando en el mismo proyecto puedan desarrollar los cambios en diferentes branches y luego poder unir los cambios de una forma relativamente sencilla. De esta forma todas las personas saben en que está trabajando cada usuario.\n",
    "\n",
    "Los VCSs por sus siglas en ingles llevan el control de los cambios por medio de snapshots (commits) que se hacen del directorio de alto nivel tambien conocido como Tree y de todos los subdirectorios (tambien llamados tree) o archivos (conocidos como blob) que este contenga, de tal forma que en cualquier momento se pueda regresar a un commit anterior o si por cualquier razon se arruina o pierde algun documento se pueda recuperar facilmente\n",
    "\n",
    "## Git\n",
    "Uno de los principales VCSs es Git, desarrollado en 2005 por la comunidad que desarrollaba el kernel de Linux, una de las grandes diferencias que tiene con respecto a otras herramientas similares (como por ejemplo Subversion o Perforce) es la forma en la que almacena y manejan los datos, Git maneja los datos como un conjunto de copias instantaneas (snapshots) de un sistema de archivos, para ser eficiente si un archivo no se ha modificado no lo almacena de nuevo, sino que solo apunta al archivo anterior que ya tiene almacenado, por lo tanto Git maneja sus datos como una secuencia de snapshots\n",
    "\n",
    "La mayor parte del tiempo Git solo necesita archivos y recursos locales para trabajar lo cual lo hace bastante rapido y la mayoria de las operaciones se ejecutan rapidamente, todo en Git es verificado por medio de un checksum antes de ser almacenado y es identificado a partir de ese momento por ese chechsum, esto nos ayuda a que no se pueda modificar nada sin que Git se de cuenta y tampoco se puede perder informarcion o tener una corrupcion de datos sin que git lo pueda detectar, el mecanismo que utiliza Git para generar este checksum se conoce como hash SHA-1. Este es un valor importante ya que Git no almacena los objetos por su nombre sino por el valor hash de sus contenidos\n",
    "\n",
    "Git maneja tres estados principales en los cuales se pueden encontrar los archivos \n",
    "\n",
    "* **Confirmado:** los datos están almacenados en la base de datos local\n",
    "* **Modificado:** el archivo se ha modificado pero aun no se ha confirmado en la base de datos\n",
    "* **Preparado:** se ha marcado un archivo modificado en su version actual para vaya en el proximo commit(confirmacion)\n",
    "\n",
    "Esto nos lleva a que GIT maneja tres areas de trabajo distintas:\n",
    "\n",
    "* **El Directorio de GIT:**  que es donde se almacenan los metadatos y la base de datos de objetos para el proyecto\n",
    "* **El directorio de trabajo:**: donde está la copia de la versión del proyecto, son los que se pueden modificar o usar\n",
    "* **Area de preparación:** generalmente está contenida en el directorio GIT y almacena la información que va a ir en el proximo commit\n",
    "\n",
    "Entonces el flujo de trabajo de GIT seria algo similar a:\n",
    "1. Modificar los archivos en el area de trabajo\n",
    "2. Preparar los archivos añadiendolos al area de preparacion \n",
    "3. Confirmar los cambios, lo que toma los archivos como esten en el area de preparacion y almacena un snapshot de manera permanente en el directorio de GIT\n",
    "\n",
    "\n",
    "### Linea de comandos en GIT\n",
    "Existen varias formas de usar GIT, pero la linea de comando es el unico lugar donde se pueden ejecutar todos los comandos de git, de aca en adelante voy a poner ejemplos de los comandos que he logrado utilizar con ejemplos aplicados a la tarea 1\n",
    "\n",
    "**config**\n",
    "\n",
    "El primer comando que voy a a utilizar para configurar mi ambiente es **config**, el cual sirve para poder personalizar el entorno de GIT, desde la identidad lo cual es importante ya que es la informacion que se guarda como metadatos al momento de crear un snapshot o commit, para esto se utilizar el comando \n",
    "\n",
    "git config \n",
    "\n",
    "Ejemplo\n"
   ]
  },
  {
   "cell_type": "code",
   "execution_count": 1,
   "metadata": {},
   "outputs": [
    {
     "name": "stdout",
     "output_type": "stream",
     "text": [
      "Jorge Hernandez\n",
      "jorge.hernandez@galileo.edu\n"
     ]
    }
   ],
   "source": [
    "%%bash\n",
    "cd /Users/jorgehernandez/Documents/Git/Tarea1\n",
    "git config --global user.name \"Jorge Hernandez\"\n",
    "git config --global user.email \"jorge.hernandez@galileo.edu\"\n",
    "\n",
    "git config --global user.name\n",
    "git config --global user.email"
   ]
  },
  {
   "cell_type": "markdown",
   "metadata": {},
   "source": [
    "**help**\n",
    "\n",
    "este comando se utiliza para obtener ayuda de algun comando en especifico de git, existen varias formas de usarlo:\n",
    "\n",
    "git help < comando >\n",
    "\n",
    "git < comando > help\n",
    "\n",
    "man < comando >\n",
    "    \n"
   ]
  },
  {
   "cell_type": "code",
   "execution_count": null,
   "metadata": {},
   "outputs": [],
   "source": [
    "%%bash\n",
    "git help config #no voy a ejecutar este comando porque la respuesta es muy larga"
   ]
  },
  {
   "cell_type": "markdown",
   "metadata": {},
   "source": [
    "### Creando un repositorio de GIT\n",
    "**init y clone**\n",
    "Ahora que ya se ha configurado el ambiente, podemos empezar a obtener un repositorio de GIT, hay dos formas de hacerlo, una es creando un repositorio desde 0 (init) y la otra se clonando desde un repositorio ya existente (clone), para esto usamos el comando init\n",
    "\n",
    "git init #repositorio nuevo\n",
    "\n",
    "git clone #repositorio existente\n",
    "\n",
    "Para la tarea del curso, empece creando un repositorio desde github y luego lo clone hacia un repositorio local en donde iba a trabajar los cambios, por lo tanto utilice la funcion de clone desde mi repositorio de github [Tarea1](https://github.com/jhernandez-u/Tarea1.git)\n",
    "\n",
    "\n",
    "git clone https://github.com/jhernandez-u/Tarea1.git\n",
    "\n",
    "Cloning into 'Tarea1'...\n",
    "\n",
    "remote: Enumerating objects: 15, done.\n",
    "\n",
    "remote: Counting objects: 100% (15/15), done.\n",
    "\n",
    "remote: Compressing objects: 100% (13/13), done.\n",
    "\n",
    "remote: Total 15 (delta 3), reused 11 (delta 2), pack-reused 0\n",
    "\n",
    "Unpacking objects: 100% (15/15), done.\n",
    "\n",
    "\n",
    "\n",
    "**status**\n",
    "\n",
    "Otro de los comandos utiles en GIT es \"status\", esto nos permite saber en que estado están los archivos, basicamente dentro de nuestro repositorio nos indica cuales archivos están rastreados (que se van a incluir en el commit) y cuales no, como acabamos de clonar un repositorio, al momento de ejecutar este comando nos mostrara esta informacion\n",
    "\n"
   ]
  },
  {
   "cell_type": "code",
   "execution_count": 2,
   "metadata": {},
   "outputs": [
    {
     "name": "stdout",
     "output_type": "stream",
     "text": [
      "On branch master\n",
      "Your branch is up to date with 'origin/master'.\n",
      "\n",
      "Changes not staged for commit:\n",
      "  (use \"git add <file>...\" to update what will be committed)\n",
      "  (use \"git restore <file>...\" to discard changes in working directory)\n",
      "\tmodified:   .ipynb_checkpoints/Tarea1_Git-checkpoint.ipynb\n",
      "\tmodified:   Tarea1_Git.ipynb\n",
      "\n",
      "no changes added to commit (use \"git add\" and/or \"git commit -a\")\n"
     ]
    }
   ],
   "source": [
    "%%bash\n",
    "git status"
   ]
  },
  {
   "cell_type": "markdown",
   "metadata": {},
   "source": [
    "\n",
    "En los resultados del status me mostro que ya habian cambiando dos archivos, esto es porque he estado ejecutando los comandos de git desde el jupyter notebook que va almacenando los archivos a cada cierto tiempo, entonces al momento de ejecutar el comando ya los dos documentos que tengo incluidos en el repositorio han sido modificados\n",
    "\n",
    "**add**\n",
    "\n",
    "Este comando se utiliza para empezar a rastrear un archivo, tambien puede ser utilizado por un directorio y automaticamente rastrea recursivamente todos los archivos que esten incluidos en el directorio, por ejemplo acabo de agregar un archivo mas al directorio raiz de mi Tarea1 llamado Info.txt que contiene mi nombre, si ejecuto el comando status tengo el siguiente resultado"
   ]
  },
  {
   "cell_type": "code",
   "execution_count": 3,
   "metadata": {},
   "outputs": [
    {
     "name": "stdout",
     "output_type": "stream",
     "text": [
      "On branch master\n",
      "Your branch is up to date with 'origin/master'.\n",
      "\n",
      "Changes not staged for commit:\n",
      "  (use \"git add <file>...\" to update what will be committed)\n",
      "  (use \"git restore <file>...\" to discard changes in working directory)\n",
      "\tmodified:   .ipynb_checkpoints/Tarea1_Git-checkpoint.ipynb\n",
      "\tmodified:   Tarea1_Git.ipynb\n",
      "\n",
      "Untracked files:\n",
      "  (use \"git add <file>...\" to include in what will be committed)\n",
      "\tInfo.txt\n",
      "\n",
      "no changes added to commit (use \"git add\" and/or \"git commit -a\")\n"
     ]
    }
   ],
   "source": [
    "%%bash\n",
    "git status"
   ]
  },
  {
   "cell_type": "markdown",
   "metadata": {},
   "source": [
    "---\n",
    "Como se puede observar el archivo nuevo \"Info.txt\" aun no está rastreado, por lo cual si lo quiero incluir dentro de mi proximo commit, tengo que usar el comando add\n",
    "---"
   ]
  },
  {
   "cell_type": "code",
   "execution_count": 4,
   "metadata": {},
   "outputs": [
    {
     "name": "stdout",
     "output_type": "stream",
     "text": [
      "On branch master\n",
      "Your branch is up to date with 'origin/master'.\n",
      "\n",
      "Changes to be committed:\n",
      "  (use \"git restore --staged <file>...\" to unstage)\n",
      "\tnew file:   Info.txt\n",
      "\n",
      "Changes not staged for commit:\n",
      "  (use \"git add <file>...\" to update what will be committed)\n",
      "  (use \"git restore <file>...\" to discard changes in working directory)\n",
      "\tmodified:   .ipynb_checkpoints/Tarea1_Git-checkpoint.ipynb\n",
      "\tmodified:   Tarea1_Git.ipynb\n",
      "\n"
     ]
    }
   ],
   "source": [
    "%%bash\n",
    "git add Info.txt \n",
    "git status"
   ]
  },
  {
   "cell_type": "markdown",
   "metadata": {},
   "source": [
    "---\n",
    "Como vemos ahora al ejecutar el comando status ya me muestra que el archivo Info.txt que acabo de agregar ya está rastreado y listo para ser incluido en el proximo commit\n",
    "\n",
    "Tomar en cuenta que si vuelvo a modificar cualquier archivo, tengo que usar nuevamente el comando add antes de hacer el commit para que vuelva a prepar el archivo y me almacene los ultimos cambios\n",
    "\n",
    "Ahora bien, el archivo que acabo de agregar no es importante para mi Tarea1, ya que no contiene informacion util, entonces puedo ignorar este archivo para que no sea tomando en cuenta en mi proximo commit, para eso se puede crear un archivo llamado .gitignore en el cual podemos escribir o crear patrones de los archivos que queremos ignorar, por ejemplo:\n",
    "\n"
   ]
  },
  {
   "cell_type": "code",
   "execution_count": 7,
   "metadata": {},
   "outputs": [
    {
     "name": "stdout",
     "output_type": "stream",
     "text": [
      "Writing .gitignore\n"
     ]
    }
   ],
   "source": [
    "%%writefile .gitignore\n",
    "/Info.txt"
   ]
  },
  {
   "cell_type": "markdown",
   "metadata": {},
   "source": [
    "---\n",
    "En la celda anterior cree el archivo .gitignore y le agregue el archivo info.txt, entonces ahora ya no me lo deberia de tomar en cuenta para el proximo commit, porque git lo va a ignorar\n"
   ]
  },
  {
   "cell_type": "code",
   "execution_count": 9,
   "metadata": {},
   "outputs": [
    {
     "name": "stdout",
     "output_type": "stream",
     "text": [
      "On branch master\n",
      "Your branch is up to date with 'origin/master'.\n",
      "\n",
      "Changes to be committed:\n",
      "  (use \"git restore --staged <file>...\" to unstage)\n",
      "\tnew file:   Info.txt\n",
      "\n",
      "Changes not staged for commit:\n",
      "  (use \"git add <file>...\" to update what will be committed)\n",
      "  (use \"git restore <file>...\" to discard changes in working directory)\n",
      "\tmodified:   .ipynb_checkpoints/Tarea1_Git-checkpoint.ipynb\n",
      "\tmodified:   Tarea1_Git.ipynb\n",
      "\n",
      "Untracked files:\n",
      "  (use \"git add <file>...\" to include in what will be committed)\n",
      "\t.gitignore\n",
      "\n"
     ]
    }
   ],
   "source": [
    "%%bash\n",
    "git status"
   ]
  },
  {
   "cell_type": "code",
   "execution_count": null,
   "metadata": {},
   "outputs": [],
   "source": []
  },
  {
   "cell_type": "code",
   "execution_count": null,
   "metadata": {},
   "outputs": [],
   "source": []
  }
 ],
 "metadata": {
  "kernelspec": {
   "display_name": "Python 3",
   "language": "python",
   "name": "python3"
  },
  "language_info": {
   "codemirror_mode": {
    "name": "ipython",
    "version": 3
   },
   "file_extension": ".py",
   "mimetype": "text/x-python",
   "name": "python",
   "nbconvert_exporter": "python",
   "pygments_lexer": "ipython3",
   "version": "3.8.1"
  }
 },
 "nbformat": 4,
 "nbformat_minor": 4
}
